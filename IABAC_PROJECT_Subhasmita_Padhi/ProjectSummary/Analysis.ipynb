{
 "cells": [
  {
   "cell_type": "markdown",
   "metadata": {},
   "source": [
    "# Data Analysis\n"
   ]
  },
  {
   "cell_type": "markdown",
   "metadata": {},
   "source": [
    "## Problem statement Given by IABAC"
   ]
  },
  {
   "cell_type": "markdown",
   "metadata": {},
   "source": [
    "INX Future Inc Employee Performance - Project INX Future Inc , (referred as INX ) , is one of the leading data analytics and automation solutions provider with over 15 years of global business presence. INX is consistently rated as top 20 best employers past 5 years. INX human resource policies are considered as employee friendly and widely perceived as best practices in the industry. Recent years, the employee performance indexes are not healthy and this is becoming a growing concerns among the top management. There has been increased escalations on service delivery and client satisfaction levels came down by 8 percentage points. CEO, Mr. Brain, knows the issues but concerned to take any actions in penalizing non-performing employees as this would affect the employee morale of all the employees in general and may further reduce the performance. Also, the market perception best employer and thereby attracting best talents to join the company.\n",
    "Mr. Brain decided to initiate a data science project , which analyses the current employee data and find the core underlying causes of this performance issues. Mr. Brain, being a data scientist himself, expects the findings of this project will help him to take right course of actions. He also expects a clear indicators of non performing employees, so that any penalization of non-performing employee, if required, may not significantly affect other employee morals.\n",
    "The following insights are expected from this project.\n",
    "\n",
    "1. Department wise performances\n",
    "2. Top 3 Important Factors effecting employee performance\n",
    "3. A trained model which can predict the employee performance based on factors as inputs. This will be used to hire employees\n",
    "4. Recommendations to improve the employee performance based on insights from analysis."
   ]
  },
  {
   "cell_type": "markdown",
   "metadata": {},
   "source": [
    "# Brief of Analysis"
   ]
  },
  {
   "cell_type": "markdown",
   "metadata": {},
   "source": [
    "For Data Analysis of data in different steps different technique used.\n",
    "Steps are,\n",
    "\n",
    "- Data Preprocessing\n",
    "- Exploratory Data analysis\n",
    "- Data modeling and prediction\n",
    "- Data Visualization\n"
   ]
  },
  {
   "cell_type": "markdown",
   "metadata": {},
   "source": [
    "###  Data Processing\n",
    "\n",
    "-  pd.read_excel() : To read excel sheet which is contains the dataset of Employee performace.\n",
    "-  head() : It will show the top 5 rows and all column\n",
    "- df.shape : Shows the number of raw and columns.\n",
    "- df.column : Shows the header of all column.\n",
    "- isna().values.any() : To check NaN in data set . No NaN is there.\n",
    "- isnull().values any() : To check the null of dataset, there is no null value.\n",
    "    \n",
    "###  Exploratory Data analysis\n",
    "\n",
    "- For univariate data analysis i used bar graph to see the count of categorical data , histogram and distribution plot use for continuous data to calucate Mean,Median,Skewness,Kurtosis,Standard Deviation.\n",
    "- For bivariate data analysis i use correlation plot to fine top three feature effecting for employee performance is EmpEnvironmentSatisfaction,EmpLastSalaryHikePercent,YearsSinceLastPromotion\n",
    "- Boxplot used to check the outlier,Q1,Q2,Q3 and interquarlite range and compared with other features.\n",
    "\n",
    "###  Data Training and prediction\n",
    "- Encoded data splitted in to training and testing. I used 70 % for total data for training purpose and 30% for testing.\n",
    "- Data fitted in to oversampler using smote.\n",
    "- Setted some parameter and tuned to get higher accuracy score.\n",
    "- Parameter passed to xgb classifier.\n",
    "- Model prediction done by xgb Classifier, Following output came,\n",
    "\n",
    "    1. Accuracy score should be closer to 1\n",
    "    2. Traing model value should not be closer to 1 to avoid overfitting.\n",
    "    3. Jaccard score should be closer to 1\n",
    "    4. F1-Score should be closer to 1\n",
    "    5. The pediction of ExtraGradiant Classifier almost Satisfies the the condition of Accuracy score,Jaccard Score and F1 Score.So it is  a good prediction model. \n",
    "\n",
    "### Visualization\n",
    "- In visualization mainly i focus about to kind the relationship between Employee department and perfoemanceRating.\n",
    "- By doing Chi-squre testing i found that EmpDepartment and performaceating is dependent as the p < 0.05.\n",
    "- I found the count of employee and percentage of employee working each department wise performance rating , To analys that thing i used crosstaable,mosaic plot and bar plot. \n"
   ]
  },
  {
   "cell_type": "code",
   "execution_count": null,
   "metadata": {},
   "outputs": [],
   "source": []
  }
 ],
 "metadata": {
  "kernelspec": {
   "display_name": "Python 3",
   "language": "python",
   "name": "python3"
  },
  "language_info": {
   "codemirror_mode": {
    "name": "ipython",
    "version": 3
   },
   "file_extension": ".py",
   "mimetype": "text/x-python",
   "name": "python",
   "nbconvert_exporter": "python",
   "pygments_lexer": "ipython3",
   "version": "3.7.1"
  }
 },
 "nbformat": 4,
 "nbformat_minor": 2
}
