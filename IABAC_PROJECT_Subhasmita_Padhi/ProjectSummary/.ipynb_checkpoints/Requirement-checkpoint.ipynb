{
 "cells": [
  {
   "cell_type": "markdown",
   "metadata": {},
   "source": [
    "\n",
    "# Employee Performance Analysis - INX Future Inc\n",
    "\n",
    "- Candidate Name : Subhasmita Padhi\n",
    "- E-Mail : subhasmita.bam@gmail.com\n",
    "- REP Name : DataMites™ Solutions Pvt Ltd\n",
    "- Assesment ID : E10901-PR2-V18\n",
    "- Module : Certified Data Scientist - Project\n",
    "- Exam Format : Open Project- IABAC™ Project Submission\n",
    "- Registered Trainer : Ashok Kumar A\n",
    "- Submission Deadline Date: 22-March-2019"
   ]
  },
  {
   "cell_type": "markdown",
   "metadata": {},
   "source": [
    "## Requirement"
   ]
  },
  {
   "cell_type": "markdown",
   "metadata": {},
   "source": [
    "The data is based on INX Future Inc, (referred as INX ). It is one of the leading data analytics and automation solutions provider with over 15 years of global business presence. The data is not from the real organization. The whole project was done in Jupiter notebook with python platform.\n",
    "\n",
    "Data source : http://data.iabac.org/exam/p2/data/INX_Future_Inc_Employee_Performance_CDS_Project2_Data_V1.8.xls"
   ]
  },
  {
   "cell_type": "code",
   "execution_count": null,
   "metadata": {},
   "outputs": [],
   "source": []
  }
 ],
 "metadata": {
  "kernelspec": {
   "display_name": "Python 3",
   "language": "python",
   "name": "python3"
  },
  "language_info": {
   "codemirror_mode": {
    "name": "ipython",
    "version": 3
   },
   "file_extension": ".py",
   "mimetype": "text/x-python",
   "name": "python",
   "nbconvert_exporter": "python",
   "pygments_lexer": "ipython3",
   "version": "3.7.1"
  }
 },
 "nbformat": 4,
 "nbformat_minor": 2
}
