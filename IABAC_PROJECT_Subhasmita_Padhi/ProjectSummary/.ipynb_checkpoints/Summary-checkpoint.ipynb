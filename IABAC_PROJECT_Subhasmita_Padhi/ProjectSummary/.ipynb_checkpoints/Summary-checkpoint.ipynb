{
 "cells": [
  {
   "cell_type": "markdown",
   "metadata": {},
   "source": [
    "# Summary Of Project"
   ]
  },
  {
   "cell_type": "markdown",
   "metadata": {},
   "source": [
    "\n",
    "# Employee Performance Analysis - INX Future Inc\n",
    "\n",
    "- Candidate Name : Subhasmita Padhi\n",
    "- E-Mail : subhasmita.bam@gmail.com\n",
    "- REP Name : DataMites™ Solutions Pvt Ltd\n",
    "- Assesment ID : E10901-PR2-V18\n",
    "- Module : Certified Data Scientist - Project\n",
    "- Exam Format : Open Project- IABAC™ Project Submission\n",
    "- Registered Trainer : Ashok Kumar A\n",
    "- Submission Deadline Date: 22-March-2019"
   ]
  },
  {
   "cell_type": "markdown",
   "metadata": {},
   "source": [
    "# Problem Statement by IABAC"
   ]
  },
  {
   "cell_type": "markdown",
   "metadata": {},
   "source": [
    "INX Future Inc Employee Performance - Project INX Future Inc , (referred as INX ) , is one of the leading data analytics and automation solutions provider with over 15 years of global business presence. INX is consistently rated as top 20 best employers past 5 years. INX human resource policies are considered as employee friendly and widely perceived as best practices in the industry. Recent years, the employee performance indexes are not healthy and this is becoming a growing concerns among the top management. There has been increased escalations on service delivery and client satisfaction levels came down by 8 percentage points. CEO, Mr. Brain, knows the issues but concerned to take any actions in penalizing non-performing employees as this would affect the employee morale of all the employees in general and may further reduce the performance. Also, the market perception best employer and thereby attracting best talents to join the company.\n",
    "Mr. Brain decided to initiate a data science project , which analyses the current employee data and find the core underlying causes of this performance issues. Mr. Brain, being a data scientist himself, expects the findings of this project will help him to take right course of actions. He also expects a clear indicators of non performing employees, so that any penalization of non-performing employee, if required, may not significantly affect other employee morals.\n",
    "The following insights are expected from this project.\n",
    "\n",
    "1. Department wise performances\n",
    "2. Top 3 Important Factors effecting employee performance\n",
    "3. A trained model which can predict the employee performance based on factors as inputs. This will be used to hire employees\n",
    "4. Recommendations to improve the employee performance based on insights from analysis."
   ]
  },
  {
   "cell_type": "markdown",
   "metadata": {},
   "source": [
    "## DataSet\n"
   ]
  },
  {
   "cell_type": "markdown",
   "metadata": {},
   "source": [
    "The employee performance date of INX Future Inc. can be downloads from below link. http://data.iabac.org/exam/p2/data/INX_Future_Inc_Employee_Performance_CDS_Project2_Data_V1.8 .xls"
   ]
  },
  {
   "cell_type": "markdown",
   "metadata": {},
   "source": [
    "To Solve this various techinques tools and techiques used,the below is the brief summery of total project.\n",
    "- Step 1. Data Processing\n",
    "- Step 2. Exploratory Data Analysis\n",
    "- Step 3. Training a model\n",
    "- Step 4. Prediction Of the Model\n",
    "- Step 5. Visualization"
   ]
  },
  {
   "cell_type": "markdown",
   "metadata": {},
   "source": [
    "## Step 1. Data Processing"
   ]
  },
  {
   "cell_type": "markdown",
   "metadata": {},
   "source": [
    "For Data Processing following things done,\n",
    "- Importing Libraries \n",
    "- Reading Dataset by pandas\n",
    "- Checking null values in dataset, but there is no null value so process further proceed.\n",
    "- Checking NaN  values in dataset, but there is no NaN value.\n",
    "- Checking the of Shape of the dataset , it has 1200 rows and 28 columns(1200*28)\n",
    "- Checking the header of all column\n",
    "- Checking the datatype of header of all column, some header are 'object' type some are 'int64' type\n",
    "- 16 columns have catagorical data.\n",
    "- 11 columns have Continous data."
   ]
  },
  {
   "cell_type": "markdown",
   "metadata": {},
   "source": [
    "## Step 2. Exploratory Data Analysis"
   ]
  },
  {
   "cell_type": "markdown",
   "metadata": {},
   "source": [
    "For Exploratory Data Analaysis several process done\n",
    "- Finding the mean,standard deviation,25%,50%,75% ,min,max of each column by a tabular format.\n",
    "- Finding Each category of all categorical data.for Example Gender(Male,Female)\n",
    "- OneHotEncoder used to encoding all categorical data.\n",
    "- Choosing 3 important factor automatically by using ExtraTreeClassifier that effecting employee performance.\n",
    "-There 2 method for analysis data,\n",
    "     1. Univariate\n",
    "     2. Bivariate\n",
    "        \n",
    "        A. Univariate\n",
    "            a.Univariate analysis of all categorical data by bar chart\n",
    "            b.Univariate analysis of all numerical data by histogram and distribution plot\n",
    "        B. Bivariate\n",
    "            a.Continous and Categorical data analysis by boxplot and tested by annova testing\n",
    "            b.Continous and continous data analysis by Correlation and visualization by matshow()\n",
    "            c.Categorical and Categorical data analysis by stacked bar graph to count the number of each category of all        categorical column and chi-square testing.\n"
   ]
  },
  {
   "cell_type": "markdown",
   "metadata": {},
   "source": [
    "## Step 3. Training Model\n"
   ]
  },
  {
   "cell_type": "markdown",
   "metadata": {},
   "source": [
    "- Storing all depended column data in one variable X.\n",
    "- Storing independed column data in other variable y\n",
    "- Splitting data into two parts 70% total data for training and 30 % total data for testing.\n",
    "- fitting data for testing.\n",
    "- Setting Parameters  for training.\n",
    "- Applyng parameter for XGboosting Classifier."
   ]
  },
  {
   "cell_type": "markdown",
   "metadata": {},
   "source": [
    "## Step 4. Predication of model"
   ]
  },
  {
   "cell_type": "markdown",
   "metadata": {},
   "source": [
    "- Predicated model calculated the accuracy score.\n",
    "- How accuracy the prediction output can be checked by confusion matrics\n",
    "- Predicated model calculated the F1- score.\n",
    "- Predicated model calculated the Jaccard Similarity Score"
   ]
  },
  {
   "cell_type": "markdown",
   "metadata": {},
   "source": [
    "## Step 5. Visualization"
   ]
  },
  {
   "cell_type": "markdown",
   "metadata": {},
   "source": [
    "- In Datascience Department Only one employee belongs to performace Rating category 2 , 17 employee in category 3 and 2 emplyoee in category 4.\n",
    "- In Development Department 13 employee belongs to performace Rating category 2 , 304 employee in category 3 and 44 emplyoee in category 4.\n",
    "- In finance Department 15 employee belongs to performace Rating category 2 , 30 employee in category 3 and 4 emplyoee in category 4.\n",
    "- In Human Resources 10 employee belongs to performace Rating category 2 , 38 employee in category 3 and 6 emplyoee in category 4.\n",
    "- In Research and Development Department 68 employee belongs to performace Rating category 2 , 251 employee in category 3 and 35 emplyoee in category 4.\n",
    "- In Sales Department 87 employee belongs to performace Rating category 2 , 251 employee in category 3 and 35 emplyoee in category 4.\n",
    "- In Sales Department max employee working as compare to other department.\n",
    "- Max employee belongs to performace_rating category of 3 i.e their performance is excellent.\n",
    "- From Pair Plot concluded that EmployeeLastSalaryHikePercent attributes is linearly separable for each Numerical Variablea and therefore it is a important feature to determine Performance Rating.\n",
    "- From Chi-square test we came to know that EmpDepartment and performancerating is dependent as the p value is less than 0.05.\n",
    "- Percentage of frequency of employee indepartment Datascience is less which performace rating is 2.\n",
    "- Percentage of frequency of employee indepartment Sales is less which performace rating is 2."
   ]
  },
  {
   "cell_type": "markdown",
   "metadata": {},
   "source": [
    "# Motivation Of this Project\n",
    "\n",
    " ## Department wise performances\n",
    "    \n",
    "- In Datascience Department Only one employee belongs to performace Rating category 2 , 17 employee in category 3 and 2 emplyoee in category 4. - In Development Department 13 employee belongs to performace Rating category 2 , 304 employee in category 3 and 44 emplyoee in category 4.\n",
    "- In finance Department 15 employee belongs to performace Rating category 2 , 30 employee in category 3 and 4 emplyoee in category 4.\n",
    "- In Human Resources 10 employee belongs to performace Rating category 2 , 38 employee in category 3 and 6 emplyoee in category 4.\n",
    "- In Research and Development Department 68 employee belongs to performace Rating category 2 , 251 employee in category 3 and 35 emplyoee in category 4.\n",
    "- In Sales Department 87 employee belongs to performace Rating category 2 , 251 employee in category 3 and 35 emplyoee in category 4.\n",
    "- In Sales Department max employee working as compare to other department.\n",
    "- Max employee belongs to performace_rating category of 3 i.e their performance is excellent.\n",
    "- From Pair Plot concluded that EmployeeLastSalaryHikePercent attributes is linearly separable for each Numerical Variablea and therefore it is a important feature to determine Performance Rating.\n",
    "- From Chi-square test we came to know that EmpDepartment and performancerating is dependent as the p value is less than 0.05.\n",
    "- Percentage of frequency of employee indepartment Datascience is less which performace rating is 2.\n",
    "- Percentage of frequency of employee indepartment Sales is less which performace rating is 2.\n",
    "   \n",
    "## Top 3 Important Factors effecting employee performance\n",
    "- The 1st Highest priority Feature that effect most in top 3 feature selection is EmpEnvironmentSatisfaction(0.13255611017713995)\n",
    "- The 2nd Highest priority Feature that effect most in top 3 feature selection is EmpLastSalaryHikePercent (0.1197129096414928)\n",
    "- The 3rd Highest priority Feature that effect most in top 3 feature selection is YearsSinceLastPromotion (0.055583659221556544)\n",
    "  \n",
    "## A trained model which can predict the employee performance based on factors as inputs. This will be used to hire employees\n",
    "\n",
    "#### Accuracy score is 0.95\n",
    "\n",
    "- Accuracy score should be closer to 1\n",
    "- Traing model value should not be closer to 1 to avoid overfitting.\n",
    "- Jaccard score should be closer to 1\n",
    "- F1-Score should be closer to 1\n",
    "- The pediction of ExtraGradiant Classifier almost Satisfies the the condition of Accuracy score,Jaccard Score and F1 Score.So it is  a good prediction model.\n",
    "  \n",
    "## Recommendations to improve the employee performance based on insights from analysis.\n",
    "\n",
    "- From Chi-Square test of categorical data found that EmpJobRole, EmpDepartment, EmpEnvironmentSatisfaction, OverTime, EmpWorkLifeBalance depended on performance rating.\n",
    "- By Chi Square-Test the overall employee performance can be achieved by employee environment satisfaction. The company needs to focus more on the employee environment.\n",
    "- As EmpJobRole,EmpDepartment,EmpEnvironmentSatisfaction,OverTime,EmpWorkLifeBalance effects the performance rating, maximum employee's performance is 3 if company focus on that then performance rating can be 4.\n",
    "- From Annova testing concluded that YearWithCurrentManager,YearScienceLastPromotion,ExperienceYearsInCurrentRole, EmpLastSalaryHikePercent,EmperienceYearsAtThisCompany effects the performance of employee as the p value is less than 0.05 company should focus on that factor also.\n",
    "- As per chi-square testing EmpJobStatisfaction also determine the performance rating because the p-value is (0.06) closer to 0.05 , so company should focus on it.\n",
    " "
   ]
  },
  {
   "cell_type": "code",
   "execution_count": null,
   "metadata": {},
   "outputs": [],
   "source": []
  }
 ],
 "metadata": {
  "kernelspec": {
   "display_name": "Python 3",
   "language": "python",
   "name": "python3"
  },
  "language_info": {
   "codemirror_mode": {
    "name": "ipython",
    "version": 3
   },
   "file_extension": ".py",
   "mimetype": "text/x-python",
   "name": "python",
   "nbconvert_exporter": "python",
   "pygments_lexer": "ipython3",
   "version": "3.7.1"
  }
 },
 "nbformat": 4,
 "nbformat_minor": 2
}
